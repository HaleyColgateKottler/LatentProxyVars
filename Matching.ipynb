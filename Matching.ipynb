{
 "cells": [
  {
   "cell_type": "code",
   "execution_count": 1,
   "metadata": {},
   "outputs": [],
   "source": [
    "import numpy as np\n",
    "from sklearn.linear_model import LogisticRegression"
   ]
  },
  {
   "cell_type": "code",
   "execution_count": 2,
   "metadata": {},
   "outputs": [],
   "source": [
    "Z = np.loadtxt(\"Z1.csv\", delimiter=\",\")\n",
    "A = np.loadtxt(\"A1.csv\", delimiter=\",\")\n",
    "Y = np.loadtxt(\"Y1.csv\", delimiter=\",\")"
   ]
  },
  {
   "cell_type": "code",
   "execution_count": 3,
   "metadata": {},
   "outputs": [],
   "source": [
    "A1_indices = [i for i, x in enumerate(A) if x]\n",
    "A0_indices = [i for i, x in enumerate(A) if not x]"
   ]
  },
  {
   "cell_type": "code",
   "execution_count": 4,
   "metadata": {},
   "outputs": [],
   "source": [
    "focal = A1_indices.copy()\n",
    "match_to = A0_indices.copy()"
   ]
  },
  {
   "cell_type": "code",
   "execution_count": 8,
   "metadata": {},
   "outputs": [
    {
     "data": {
      "text/plain": [
       "(0.5781186619698001, 147.99837746426883, 256)"
      ]
     },
     "execution_count": 8,
     "metadata": {},
     "output_type": "execute_result"
    }
   ],
   "source": [
    "diff1 = 0\n",
    "count1 = 0\n",
    "\n",
    "for i in focal:\n",
    "    distances = [np.linalg.norm(Z[i] - Z[j]) for j in match_to]\n",
    "    match = distances.index(min(distances))\n",
    "    count1 += 1\n",
    "    diff1 += Y[i] - Y[match_to[match]]\n",
    "\n",
    "# matching on focal\n",
    "diff1/count1, diff1, count1"
   ]
  },
  {
   "cell_type": "code",
   "execution_count": 9,
   "metadata": {},
   "outputs": [
    {
     "data": {
      "text/plain": [
       "(0.5536079653114427, 135.08034353599203, 244)"
      ]
     },
     "execution_count": 9,
     "metadata": {},
     "output_type": "execute_result"
    }
   ],
   "source": [
    "diff2 = 0\n",
    "count2 = 0\n",
    "\n",
    "for i in match_to:\n",
    "    distances = [np.linalg.norm(Z[i] - Z[j]) for j in focal]\n",
    "    match = distances.index(min(distances))\n",
    "    count2 += 1\n",
    "    diff2 -= Y[i] - Y[focal[match]]\n",
    "    \n",
    "# matching on not focal\n",
    "diff2/count2, diff2, count2"
   ]
  },
  {
   "cell_type": "code",
   "execution_count": 7,
   "metadata": {},
   "outputs": [
    {
     "data": {
      "text/plain": [
       "0.5661574420005218"
      ]
     },
     "execution_count": 7,
     "metadata": {},
     "output_type": "execute_result"
    }
   ],
   "source": [
    "# matching every sample\n",
    "(diff1 + diff2) / (count1 + count2)"
   ]
  },
  {
   "cell_type": "code",
   "execution_count": null,
   "metadata": {},
   "outputs": [],
   "source": []
  }
 ],
 "metadata": {
  "kernelspec": {
   "display_name": "Python 3 (ipykernel)",
   "language": "python",
   "name": "python3"
  },
  "language_info": {
   "codemirror_mode": {
    "name": "ipython",
    "version": 3
   },
   "file_extension": ".py",
   "mimetype": "text/x-python",
   "name": "python",
   "nbconvert_exporter": "python",
   "pygments_lexer": "ipython3",
   "version": "3.8.5"
  }
 },
 "nbformat": 4,
 "nbformat_minor": 4
}
