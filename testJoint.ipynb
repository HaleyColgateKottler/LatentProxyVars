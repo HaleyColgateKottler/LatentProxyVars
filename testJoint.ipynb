{
 "cells": [
  {
   "cell_type": "code",
   "execution_count": 2,
   "metadata": {},
   "outputs": [],
   "source": [
    "import numpy as np\n",
    "from scipy.stats import bernoulli\n",
    "import matplotlib.pyplot as plt"
   ]
  },
  {
   "cell_type": "code",
   "execution_count": 76,
   "metadata": {},
   "outputs": [],
   "source": [
    "n=10000\n",
    "k=2\n",
    "p=2\n",
    "\n",
    "var_A = 1\n",
    "var_Y = 0.5\n",
    "\n",
    "lambda_common = [[1,1],[2,2]]\n",
    "\n",
    "H_mean = np.zeros((k,))\n",
    "H_covar = np.identity(k)\n",
    "B = [0,1]\n",
    "F = [2,1]"
   ]
  },
  {
   "cell_type": "code",
   "execution_count": 77,
   "metadata": {},
   "outputs": [],
   "source": [
    "H_set = np.empty((k,n), dtype = np.float64)\n",
    "Z_set = np.empty((p,n), dtype = np.float64)\n",
    "A_set = np.empty((n), dtype = int)\n",
    "Y_set = np.empty((n), dtype = np.float64)"
   ]
  },
  {
   "cell_type": "code",
   "execution_count": 78,
   "metadata": {},
   "outputs": [],
   "source": [
    "for i in range(n):\n",
    "    epsilon = np.random.multivariate_normal(np.zeros((p,)), np.zeros((p,p)))\n",
    "    epsilon_A = np.random.normal(0, var_A)\n",
    "    \n",
    "    H = np.random.multivariate_normal(H_mean, H_covar)\n",
    "    Z = np.dot(lambda_common, H) + epsilon\n",
    "    A_star = np.dot(B,H) + epsilon_A\n",
    "    A = 1 if (A_star >= 0) else 0\n",
    "    Y = np.dot([2,1],H)*A + np.dot([1,2],H)*(1-A)\n",
    "    \n",
    "    H_set[:,i] = H.T\n",
    "    Z_set[:,i] = Z.T\n",
    "    A_set[i] = A\n",
    "    Y_set[i] = Y"
   ]
  },
  {
   "cell_type": "code",
   "execution_count": 79,
   "metadata": {},
   "outputs": [
    {
     "data": {
      "text/plain": [
       "(array([   4.,   67.,  400., 1460., 2767., 3023., 1625.,  542.,  101.,\n",
       "          11.]),\n",
       " array([-4.06792597, -3.2689383 , -2.46995062, -1.67096295, -0.87197528,\n",
       "        -0.0729876 ,  0.72600007,  1.52498775,  2.32397542,  3.1229631 ,\n",
       "         3.92195077]),\n",
       " <BarContainer object of 10 artists>)"
      ]
     },
     "execution_count": 79,
     "metadata": {},
     "output_type": "execute_result"
    },
    {
     "data": {
      "image/png": "[encoded data removed]",
      "text/plain": [
       "<Figure size 432x288 with 1 Axes>"
      ]
     },
     "metadata": {
      "needs_background": "light"
     },
     "output_type": "display_data"
    }
   ],
   "source": [
    "plt.hist(H_set[0,:])"
   ]
  },
  {
   "cell_type": "code",
   "execution_count": 80,
   "metadata": {},
   "outputs": [],
   "source": [
    "indices = []\n",
    "for i in range(n):\n",
    "    if A_set[i] == 1:\n",
    "        if Z_set[0,i] < 1 and Z_set[1,i] < 2:\n",
    "            if Z_set[0,i] > 0 and Z_set[1,i] > 0:\n",
    "                indices.append(i)\n",
    "# indices"
   ]
  },
  {
   "cell_type": "code",
   "execution_count": 81,
   "metadata": {},
   "outputs": [
    {
     "data": {
      "text/plain": [
       "(array([  6.,  29., 124., 289., 423., 371., 194.,  69.,  16.,   2.]),\n",
       " array([-2.2665887 , -1.79602729, -1.32546587, -0.85490446, -0.38434305,\n",
       "         0.08621837,  0.55677978,  1.0273412 ,  1.49790261,  1.96846403,\n",
       "         2.43902544]),\n",
       " <BarContainer object of 10 artists>)"
      ]
     },
     "execution_count": 81,
     "metadata": {},
     "output_type": "execute_result"
    },
    {
     "data": {
      "image/png": "[encoded data removed]",
      "text/plain": [
       "<Figure size 432x288 with 1 Axes>"
      ]
     },
     "metadata": {
      "needs_background": "light"
     },
     "output_type": "display_data"
    }
   ],
   "source": [
    "plt.hist(H_set[0, indices])"
   ]
  },
  {
   "cell_type": "code",
   "execution_count": 82,
   "metadata": {},
   "outputs": [
    {
     "data": {
      "text/plain": [
       "(array([  4.,  30.,  97., 212., 402., 400., 245., 100.,  26.,   7.]),\n",
       " array([-1.71302449, -1.26841464, -0.82380479, -0.37919494,  0.06541491,\n",
       "         0.51002476,  0.95463461,  1.39924446,  1.84385431,  2.28846416,\n",
       "         2.73307401]),\n",
       " <BarContainer object of 10 artists>)"
      ]
     },
     "execution_count": 82,
     "metadata": {},
     "output_type": "execute_result"
    },
    {
     "data": {
      "image/png": "[encoded data removed]",
      "text/plain": [
       "<Figure size 432x288 with 1 Axes>"
      ]
     },
     "metadata": {
      "needs_background": "light"
     },
     "output_type": "display_data"
    }
   ],
   "source": [
    "plt.hist(H_set[1, indices])"
   ]
  },
  {
   "cell_type": "code",
   "execution_count": 74,
   "metadata": {},
   "outputs": [
    {
     "data": {
      "text/plain": [
       "490"
      ]
     },
     "execution_count": 74,
     "metadata": {},
     "output_type": "execute_result"
    }
   ],
   "source": [
    "sum(A_set==1)"
   ]
  },
  {
   "cell_type": "code",
   "execution_count": null,
   "metadata": {},
   "outputs": [],
   "source": []
  }
 ],
 "metadata": {
  "kernelspec": {
   "display_name": "Python 3 (ipykernel)",
   "language": "python",
   "name": "python3"
  },
  "language_info": {
   "codemirror_mode": {
    "name": "ipython",
    "version": 3
   },
   "file_extension": ".py",
   "mimetype": "text/x-python",
   "name": "python",
   "nbconvert_exporter": "python",
   "pygments_lexer": "ipython3",
   "version": "3.8.5"
  }
 },
 "nbformat": 4,
 "nbformat_minor": 4
}
