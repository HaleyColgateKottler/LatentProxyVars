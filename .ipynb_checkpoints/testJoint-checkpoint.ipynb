{
 "cells": [
  {
   "cell_type": "code",
   "execution_count": 1,
   "metadata": {},
   "outputs": [],
   "source": [
    "import numpy as np\n",
    "from scipy.stats import bernoulli\n",
    "import matplotlib.pyplot as plt"
   ]
  },
  {
   "cell_type": "code",
   "execution_count": 2,
   "metadata": {},
   "outputs": [],
   "source": [
    "n=10000\n",
    "k=1\n",
    "p=2\n",
    "\n",
    "var_A = 1\n",
    "var_Y = 0.5\n",
    "\n",
    "lambda_common = [[2],[1]]\n",
    "\n",
    "H_mean = np.zeros((k,))\n",
    "H_covar = np.identity(k)\n",
    "B = [100]\n",
    "F = [2,1]"
   ]
  },
  {
   "cell_type": "code",
   "execution_count": 3,
   "metadata": {},
   "outputs": [],
   "source": [
    "H_set = np.empty((k,n), dtype = np.float64)\n",
    "Z_set = np.empty((p,n), dtype = np.float64)\n",
    "A_set = np.empty((n), dtype = int)\n",
    "Y_set = np.empty((n), dtype = np.float64)"
   ]
  },
  {
   "cell_type": "code",
   "execution_count": 5,
   "metadata": {},
   "outputs": [],
   "source": [
    "for i in range(n):\n",
    "    epsilon = np.random.multivariate_normal(np.zeros((p,)), np.zeros((p,p)))\n",
    "    epsilon_A = np.random.normal(0, var_A)\n",
    "    \n",
    "    H = np.random.multivariate_normal(H_mean, H_covar)\n",
    "    Z = np.dot(lambda_common, H) + epsilon\n",
    "    A_star = np.dot(B,H) + epsilon_A\n",
    "    A = 1 if (A_star >= 0) else 0\n",
    "    Y = np.dot([1],H)*A + np.dot([2],H)*(1-A)\n",
    "    \n",
    "    H_set[:,i] = H.T\n",
    "    Z_set[:,i] = Z.T\n",
    "    A_set[i] = A\n",
    "    Y_set[i] = Y"
   ]
  },
  {
   "cell_type": "code",
   "execution_count": 6,
   "metadata": {},
   "outputs": [
    {
     "data": {
      "text/plain": [
       "(array([   6.,   59.,  328., 1220., 2520., 2994., 1925.,  761.,  167.,\n",
       "          20.]),\n",
       " array([-4.05726031, -3.28844542, -2.51963054, -1.75081566, -0.98200077,\n",
       "        -0.21318589,  0.55562899,  1.32444388,  2.09325876,  2.86207365,\n",
       "         3.63088853]),\n",
       " <BarContainer object of 10 artists>)"
      ]
     },
     "execution_count": 6,
     "metadata": {},
     "output_type": "execute_result"
    },
    {
     "data": {
      "image/png": "[encoded data removed]",
      "text/plain": [
       "<Figure size 432x288 with 1 Axes>"
      ]
     },
     "metadata": {
      "needs_background": "light"
     },
     "output_type": "display_data"
    }
   ],
   "source": [
    "plt.hist(H_set[0,:])"
   ]
  },
  {
   "cell_type": "code",
   "execution_count": 7,
   "metadata": {},
   "outputs": [],
   "source": [
    "indices = []\n",
    "for i in range(n):\n",
    "    if A_set[i] == 1:\n",
    "        if Z_set[0,i] < 1 and Z_set[1,i] < 2:\n",
    "            if Z_set[0,i] > 0 and Z_set[1,i] > 0:\n",
    "                indices.append(i)\n",
    "# indices"
   ]
  },
  {
   "cell_type": "code",
   "execution_count": 8,
   "metadata": {},
   "outputs": [
    {
     "data": {
      "text/plain": [
       "(array([186., 198., 226., 189., 193., 187., 216., 199., 206., 164.]),\n",
       " array([1.46652548e-06, 4.99934170e-02, 9.99853675e-02, 1.49977318e-01,\n",
       "        1.99969269e-01, 2.49961219e-01, 2.99953170e-01, 3.49945120e-01,\n",
       "        3.99937071e-01, 4.49929021e-01, 4.99920972e-01]),\n",
       " <BarContainer object of 10 artists>)"
      ]
     },
     "execution_count": 8,
     "metadata": {},
     "output_type": "execute_result"
    },
    {
     "data": {
      "image/png": "[encoded data removed]",
      "text/plain": [
       "<Figure size 432x288 with 1 Axes>"
      ]
     },
     "metadata": {
      "needs_background": "light"
     },
     "output_type": "display_data"
    }
   ],
   "source": [
    "plt.hist(H_set[0, indices])"
   ]
  },
  {
   "cell_type": "code",
   "execution_count": 11,
   "metadata": {},
   "outputs": [
    {
     "ename": "IndexError",
     "evalue": "index 5 is out of bounds for axis 0 with size 1",
     "output_type": "error",
     "traceback": [
      "\u001b[0;31m---------------------------------------------------------------------------\u001b[0m",
      "\u001b[0;31mIndexError\u001b[0m                                Traceback (most recent call last)",
      "\u001b[0;32m<ipython-input-11-179b906bd07c>\u001b[0m in \u001b[0;36m<module>\u001b[0;34m\u001b[0m\n\u001b[0;32m----> 1\u001b[0;31m \u001b[0mplt\u001b[0m\u001b[0;34m.\u001b[0m\u001b[0mhist\u001b[0m\u001b[0;34m(\u001b[0m\u001b[0mH_set\u001b[0m\u001b[0;34m[\u001b[0m\u001b[0mindices\u001b[0m\u001b[0;34m]\u001b[0m\u001b[0;34m)\u001b[0m\u001b[0;34m\u001b[0m\u001b[0;34m\u001b[0m\u001b[0m\n\u001b[0m",
      "\u001b[0;31mIndexError\u001b[0m: index 5 is out of bounds for axis 0 with size 1"
     ]
    }
   ],
   "source": [
    "plt.hist(H_set[1, indices])"
   ]
  },
  {
   "cell_type": "code",
   "execution_count": 10,
   "metadata": {},
   "outputs": [
    {
     "data": {
      "text/plain": [
       "5037"
      ]
     },
     "execution_count": 10,
     "metadata": {},
     "output_type": "execute_result"
    }
   ],
   "source": [
    "sum(A_set==1)"
   ]
  },
  {
   "cell_type": "code",
   "execution_count": null,
   "metadata": {},
   "outputs": [],
   "source": []
  }
 ],
 "metadata": {
  "kernelspec": {
   "display_name": "Python 3 (ipykernel)",
   "language": "python",
   "name": "python3"
  },
  "language_info": {
   "codemirror_mode": {
    "name": "ipython",
    "version": 3
   },
   "file_extension": ".py",
   "mimetype": "text/x-python",
   "name": "python",
   "nbconvert_exporter": "python",
   "pygments_lexer": "ipython3",
   "version": "3.8.5"
  }
 },
 "nbformat": 4,
 "nbformat_minor": 4
}
