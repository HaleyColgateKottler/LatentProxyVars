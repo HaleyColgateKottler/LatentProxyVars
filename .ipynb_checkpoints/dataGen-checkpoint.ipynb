{
 "cells": [
  {
   "cell_type": "code",
   "execution_count": 10,
   "metadata": {},
   "outputs": [],
   "source": [
    "import numpy as np\n",
    "from scipy.stats import bernoulli\n",
    "\n",
    "def sigmaSim(p, k, communality):\n",
    "    # p number of variables\n",
    "    # k number of factors\n",
    "    # communality 1 low, 2 wide, 3 high\n",
    "    \n",
    "    A = np.zeros((p,k))\n",
    "    \n",
    "    # need row entries to sum to k-1\n",
    "    A[:,0] = np.random.randint(0, k, p)\n",
    "    \n",
    "    for i in range(p):\n",
    "        for j in range(1, k-1):\n",
    "            current_sum = sum(A[i,:])\n",
    "            if current_sum == k-1:\n",
    "                A[i,j] = 0\n",
    "            else:\n",
    "                a = np.random.randint(0, k-current_sum)\n",
    "                A[i,j] = a\n",
    "    A[:,k-1] = (k-1)*np.ones((1,p)) - np.sum(A,1)\n",
    "    \n",
    "    print(A)\n",
    "    \n",
    "    # Add normal deviation\n",
    "    c = .1*np.random.randint(7, 10, k)\n",
    "    print(c)\n",
    "    x1 = np.random.normal(size = (p, k))\n",
    "    d = 1/np.linalg.norm(x1, ord=2, axis=1)\n",
    "    \n",
    "    Y = A*c + d.reshape(p,1)*x1*np.sqrt(1-c**2)\n",
    "    print(Y)\n",
    "    \n",
    "    # Apply skewing function\n",
    "    Y2 = Y + abs(Y) + 0.2\n",
    "    Y3 = abs(Y) + 0.2\n",
    "    Z = (1.2/2.2) * (Y*Y2) / Y3\n",
    "    \n",
    "    g = 1/np.linalg.norm(Z, ord=2, axis=1)\n",
    "    \n",
    "    # Scale to set communality\n",
    "    if communality == 1:\n",
    "        B1 = np.diag(.1*np.random.randint(2,5,p))\n",
    "    elif communality == 2:\n",
    "        B1 = np.diag(.1*np.random.randint(2,9,p))\n",
    "    elif communality == 3:\n",
    "        B1 = np.diag(.1*np.random.randint(6,9,p))\n",
    "    else:\n",
    "        B1 = np.zeros(p,p)\n",
    "        \n",
    "    B2 = np.identity(p) - B1\n",
    "    \n",
    "    # Final factor loading matrix\n",
    "    lambda_common = np.dot(np.sqrt(B1), g).reshape(p,1)*Z\n",
    "    lambda_unique = np.sqrt(B2)\n",
    "    \n",
    "    sigma = np.dot(lambda_common, np.transpose(lambda_common)) + np.dot(lambda_unique, np.transpose(lambda_unique))\n",
    "    \n",
    "    return(sigma, lambda_common, lambda_unique)"
   ]
  },
  {
   "cell_type": "code",
   "execution_count": 11,
   "metadata": {},
   "outputs": [],
   "source": [
    "k = 2\n",
    "p = 3\n",
    "communality = 1"
   ]
  },
  {
   "cell_type": "code",
   "execution_count": 12,
   "metadata": {},
   "outputs": [
    {
     "name": "stdout",
     "output_type": "stream",
     "text": [
      "[[ 0.4207827   0.54781087]\n",
      " [-0.70351858  0.97490786]\n",
      " [-0.53346979  1.18978659]]\n"
     ]
    }
   ],
   "source": [
    "sigma, lambda_common, lambda_unique = sigmaSim(p, k, communality)"
   ]
  },
  {
   "cell_type": "code",
   "execution_count": 4,
   "metadata": {},
   "outputs": [
    {
     "data": {
      "text/plain": [
       "array([[ 1.        , -0.06174559,  0.20373037],\n",
       "       [-0.06174559,  1.        ,  0.06552018],\n",
       "       [ 0.20373037,  0.06552018,  1.        ]])"
      ]
     },
     "execution_count": 4,
     "metadata": {},
     "output_type": "execute_result"
    }
   ],
   "source": [
    "sigma"
   ]
  },
  {
   "cell_type": "code",
   "execution_count": 5,
   "metadata": {},
   "outputs": [
    {
     "data": {
      "text/plain": [
       "array([[-0.06962245,  0.54327959],\n",
       "       [ 0.44359108, -0.05680627],\n",
       "       [ 0.19899233,  0.40050225]])"
      ]
     },
     "execution_count": 5,
     "metadata": {},
     "output_type": "execute_result"
    }
   ],
   "source": [
    "lambda_common"
   ]
  },
  {
   "cell_type": "code",
   "execution_count": 6,
   "metadata": {},
   "outputs": [
    {
     "data": {
      "text/plain": [
       "array([[0.83666003, 0.        , 0.        ],\n",
       "       [0.        , 0.89442719, 0.        ],\n",
       "       [0.        , 0.        , 0.89442719]])"
      ]
     },
     "execution_count": 6,
     "metadata": {},
     "output_type": "execute_result"
    }
   ],
   "source": [
    "lambda_unique"
   ]
  },
  {
   "cell_type": "code",
   "execution_count": null,
   "metadata": {},
   "outputs": [],
   "source": []
  }
 ],
 "metadata": {
  "kernelspec": {
   "display_name": "Python 3 (ipykernel)",
   "language": "python",
   "name": "python3"
  },
  "language_info": {
   "codemirror_mode": {
    "name": "ipython",
    "version": 3
   },
   "file_extension": ".py",
   "mimetype": "text/x-python",
   "name": "python",
   "nbconvert_exporter": "python",
   "pygments_lexer": "ipython3",
   "version": "3.8.5"
  }
 },
 "nbformat": 4,
 "nbformat_minor": 4
}
